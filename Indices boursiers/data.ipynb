{
 "cells": [
  {
   "cell_type": "code",
   "execution_count": 3,
   "metadata": {},
   "outputs": [],
   "source": [
    "import pandas as pd\n",
    "from data_fonctions import load_google_sheet_csv_Russel, update_dataframe_Russel"
   ]
  },
  {
   "cell_type": "code",
   "execution_count": 9,
   "metadata": {},
   "outputs": [
    {
     "name": "stderr",
     "output_type": "stream",
     "text": [
      "404 Client Error: Not Found for url: https://query2.finance.yahoo.com/v10/finance/quoteSummary/BIG?modules=financialData%2CquoteType%2CdefaultKeyStatistics%2CassetProfile%2CsummaryDetail&corsDomain=finance.yahoo.com&formatted=false&symbol=BIG&crumb=enS23e6LpOy\n"
     ]
    },
    {
     "name": "stdout",
     "output_type": "stream",
     "text": [
      "Erreur lors de la récupération du Market Cap pour BIG.\n",
      "Ticker          0\n",
      "Company Name    0\n",
      "Market Cap      0\n",
      "dtype: int64\n"
     ]
    },
    {
     "data": {
      "text/html": [
       "<div>\n",
       "<style scoped>\n",
       "    .dataframe tbody tr th:only-of-type {\n",
       "        vertical-align: middle;\n",
       "    }\n",
       "\n",
       "    .dataframe tbody tr th {\n",
       "        vertical-align: top;\n",
       "    }\n",
       "\n",
       "    .dataframe thead th {\n",
       "        text-align: right;\n",
       "    }\n",
       "</style>\n",
       "<table border=\"1\" class=\"dataframe\">\n",
       "  <thead>\n",
       "    <tr style=\"text-align: right;\">\n",
       "      <th></th>\n",
       "      <th>Ticker</th>\n",
       "      <th>Company Name</th>\n",
       "      <th>Market Cap</th>\n",
       "    </tr>\n",
       "  </thead>\n",
       "  <tbody>\n",
       "    <tr>\n",
       "      <th>1151</th>\n",
       "      <td>MSTR</td>\n",
       "      <td>MICROSTRATEGY Inc</td>\n",
       "      <td>82814620000</td>\n",
       "    </tr>\n",
       "    <tr>\n",
       "      <th>484</th>\n",
       "      <td>CVNA</td>\n",
       "      <td>CARVANA CO.</td>\n",
       "      <td>31902680000</td>\n",
       "    </tr>\n",
       "    <tr>\n",
       "      <th>1611</th>\n",
       "      <td>SMCI</td>\n",
       "      <td>Super Micro Computer, Inc.</td>\n",
       "      <td>21343850000</td>\n",
       "    </tr>\n",
       "    <tr>\n",
       "      <th>677</th>\n",
       "      <td>FIX</td>\n",
       "      <td>COMFORT SYSTEMS USA INC</td>\n",
       "      <td>16455509999</td>\n",
       "    </tr>\n",
       "    <tr>\n",
       "      <th>551</th>\n",
       "      <td>DUOL</td>\n",
       "      <td>Duolingo, Inc.</td>\n",
       "      <td>14869860000</td>\n",
       "    </tr>\n",
       "  </tbody>\n",
       "</table>\n",
       "</div>"
      ],
      "text/plain": [
       "     Ticker                Company Name   Market Cap\n",
       "1151   MSTR           MICROSTRATEGY Inc  82814620000\n",
       "484    CVNA                 CARVANA CO.  31902680000\n",
       "1611   SMCI  Super Micro Computer, Inc.  21343850000\n",
       "677     FIX     COMFORT SYSTEMS USA INC  16455509999\n",
       "551    DUOL              Duolingo, Inc.  14869860000"
      ]
     },
     "execution_count": 9,
     "metadata": {},
     "output_type": "execute_result"
    }
   ],
   "source": [
    "# Chargement des données\n",
    "csv_url = \"https://docs.google.com/spreadsheets/d/1OGMIF5aozD_O5r0WAhmANDizKXcsbd8x_OTjTPf-IcQ/export?format=csv&gid=0\"\n",
    "df_russel2000 = load_google_sheet_csv_Russel(csv_url)\n",
    "\n",
    "# Nettoyage initial des données\n",
    "df_russel2000 = df_russel2000.drop(columns=[\n",
    "    'Sector', 'Price', 'Dividend Yield', '5-Year Average Dividend Yield', 'Dividends Per Share (TTM)',\n",
    "    'Trailing P/E Ratio', 'Payout Ratio', 'Beta', '52-Week High', '52-Week Low'\n",
    "])\n",
    "df_russel2000.rename(columns={'Name': 'Company Name', 'Market Cap ($M)': 'Market Cap'}, inplace=True)\n",
    "\n",
    "# Mise à jour du DataFrame\n",
    "df_russel2000 = update_dataframe_Russel(df_russel2000)\n",
    "df_russel2000 = df_russel2000.dropna(subset=['Company Name', 'Market Cap'])\n",
    "\n",
    "# Tri et vérification des valeurs manquantes\n",
    "df_russel2000 = df_russel2000.sort_values(by='Market Cap', ascending=False)\n",
    "print(df_russel2000.isnull().sum())\n",
    "\n",
    "# Affichage\n",
    "df_russel2000.head()"
   ]
  }
 ],
 "metadata": {
  "kernelspec": {
   "display_name": "base",
   "language": "python",
   "name": "python3"
  },
  "language_info": {
   "codemirror_mode": {
    "name": "ipython",
    "version": 3
   },
   "file_extension": ".py",
   "mimetype": "text/x-python",
   "name": "python",
   "nbconvert_exporter": "python",
   "pygments_lexer": "ipython3",
   "version": "3.12.7"
  }
 },
 "nbformat": 4,
 "nbformat_minor": 2
}
