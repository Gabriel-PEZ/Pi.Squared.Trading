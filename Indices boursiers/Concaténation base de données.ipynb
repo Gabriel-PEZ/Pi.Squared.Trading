{
 "cells": [
  {
   "cell_type": "code",
   "execution_count": 21,
   "metadata": {},
   "outputs": [],
   "source": [
    "import pandas as pd"
   ]
  },
  {
   "cell_type": "code",
   "execution_count": null,
   "metadata": {},
   "outputs": [],
   "source": [
    "df_cac = pd.read_csv(\"/home/onyxia/work/Pi.Squared.Trading/Indices boursiers/cac_40.csv\")\n",
    "df_snp = pd.read_csv(\"/home/onyxia/work/Pi.Squared.Trading/Indices boursiers/snp_500.csv\")\n",
    "df_dax = pd.read_csv(\"/home/onyxia/work/Pi.Squared.Trading/Indices boursiers/dax_40.csv\")\n",
    "df_russel = pd.read_csv(\"/home/onyxia/work/Pi.Squared.Trading/Indices boursiers/russell_2000.csv\")"
   ]
  },
  {
   "cell_type": "code",
   "execution_count": 23,
   "metadata": {},
   "outputs": [],
   "source": [
    "df_russel = df_russel.rename(columns={'Company Name': 'Company'})\n",
    "df_snp = df_snp.rename(columns={'Security': 'Company', 'Symbol': 'Ticker'})"
   ]
  },
  {
   "cell_type": "code",
   "execution_count": 24,
   "metadata": {},
   "outputs": [],
   "source": [
    "cac = df_cac[['Company', 'Ticker']]\n",
    "snp = df_snp[['Company', 'Ticker']]\n",
    "dax = df_dax[['Company', 'Ticker']]\n",
    "russel = df_russel[['Company', 'Ticker']]"
   ]
  },
  {
   "cell_type": "code",
   "execution_count": 25,
   "metadata": {},
   "outputs": [
    {
     "name": "stderr",
     "output_type": "stream",
     "text": [
      "C:\\Users\\gabri\\AppData\\Local\\Temp\\ipykernel_41676\\625027927.py:1: SettingWithCopyWarning: \n",
      "A value is trying to be set on a copy of a slice from a DataFrame.\n",
      "Try using .loc[row_indexer,col_indexer] = value instead\n",
      "\n",
      "See the caveats in the documentation: https://pandas.pydata.org/pandas-docs/stable/user_guide/indexing.html#returning-a-view-versus-a-copy\n",
      "  cac['Ind'] = 'CAC 40'\n",
      "C:\\Users\\gabri\\AppData\\Local\\Temp\\ipykernel_41676\\625027927.py:2: SettingWithCopyWarning: \n",
      "A value is trying to be set on a copy of a slice from a DataFrame.\n",
      "Try using .loc[row_indexer,col_indexer] = value instead\n",
      "\n",
      "See the caveats in the documentation: https://pandas.pydata.org/pandas-docs/stable/user_guide/indexing.html#returning-a-view-versus-a-copy\n",
      "  dax['Ind'] = 'DAX40'\n",
      "C:\\Users\\gabri\\AppData\\Local\\Temp\\ipykernel_41676\\625027927.py:3: SettingWithCopyWarning: \n",
      "A value is trying to be set on a copy of a slice from a DataFrame.\n",
      "Try using .loc[row_indexer,col_indexer] = value instead\n",
      "\n",
      "See the caveats in the documentation: https://pandas.pydata.org/pandas-docs/stable/user_guide/indexing.html#returning-a-view-versus-a-copy\n",
      "  snp['Ind'] = 'S&P 500'\n"
     ]
    }
   ],
   "source": [
    "cac['Ind'] = 'CAC 40'\n",
    "dax['Ind'] = 'DAX40'\n",
    "snp['Ind'] = 'S&P 500'\n",
    "russel['Ind'] = 'Russell 200'"
   ]
  },
  {
   "cell_type": "code",
   "execution_count": 26,
   "metadata": {},
   "outputs": [],
   "source": [
    "df_combined = pd.concat([cac, snp, dax, russel], ignore_index=True)"
   ]
  },
  {
   "cell_type": "code",
   "execution_count": 27,
   "metadata": {},
   "outputs": [
    {
     "data": {
      "text/html": [
       "<div>\n",
       "<style scoped>\n",
       "    .dataframe tbody tr th:only-of-type {\n",
       "        vertical-align: middle;\n",
       "    }\n",
       "\n",
       "    .dataframe tbody tr th {\n",
       "        vertical-align: top;\n",
       "    }\n",
       "\n",
       "    .dataframe thead th {\n",
       "        text-align: right;\n",
       "    }\n",
       "</style>\n",
       "<table border=\"1\" class=\"dataframe\">\n",
       "  <thead>\n",
       "    <tr style=\"text-align: right;\">\n",
       "      <th></th>\n",
       "      <th>Company</th>\n",
       "      <th>Ticker</th>\n",
       "      <th>Ind</th>\n",
       "    </tr>\n",
       "  </thead>\n",
       "  <tbody>\n",
       "    <tr>\n",
       "      <th>0</th>\n",
       "      <td>LVMH</td>\n",
       "      <td>MC.PA</td>\n",
       "      <td>CAC 40</td>\n",
       "    </tr>\n",
       "    <tr>\n",
       "      <th>1</th>\n",
       "      <td>Hermès</td>\n",
       "      <td>RMS.PA</td>\n",
       "      <td>CAC 40</td>\n",
       "    </tr>\n",
       "    <tr>\n",
       "      <th>2</th>\n",
       "      <td>L'Oréal</td>\n",
       "      <td>OR.PA</td>\n",
       "      <td>CAC 40</td>\n",
       "    </tr>\n",
       "    <tr>\n",
       "      <th>3</th>\n",
       "      <td>Schneider Electric</td>\n",
       "      <td>SU.PA</td>\n",
       "      <td>CAC 40</td>\n",
       "    </tr>\n",
       "    <tr>\n",
       "      <th>4</th>\n",
       "      <td>TotalEnergies</td>\n",
       "      <td>TTE.PA</td>\n",
       "      <td>CAC 40</td>\n",
       "    </tr>\n",
       "    <tr>\n",
       "      <th>...</th>\n",
       "      <td>...</td>\n",
       "      <td>...</td>\n",
       "      <td>...</td>\n",
       "    </tr>\n",
       "    <tr>\n",
       "      <th>2515</th>\n",
       "      <td>Presto Automation Inc.</td>\n",
       "      <td>PRST</td>\n",
       "      <td>Russell 200</td>\n",
       "    </tr>\n",
       "    <tr>\n",
       "      <th>2516</th>\n",
       "      <td>Graphite Bio, Inc.</td>\n",
       "      <td>GRPH</td>\n",
       "      <td>Russell 200</td>\n",
       "    </tr>\n",
       "    <tr>\n",
       "      <th>2517</th>\n",
       "      <td>Vaxxinity, Inc.</td>\n",
       "      <td>VAXX</td>\n",
       "      <td>Russell 200</td>\n",
       "    </tr>\n",
       "    <tr>\n",
       "      <th>2518</th>\n",
       "      <td>Blue Ridge Bankshares Inc</td>\n",
       "      <td>BRBS</td>\n",
       "      <td>Russell 200</td>\n",
       "    </tr>\n",
       "    <tr>\n",
       "      <th>2519</th>\n",
       "      <td>Preferred Bank-Los Angeles CA</td>\n",
       "      <td>PFBC</td>\n",
       "      <td>Russell 200</td>\n",
       "    </tr>\n",
       "  </tbody>\n",
       "</table>\n",
       "<p>2520 rows × 3 columns</p>\n",
       "</div>"
      ],
      "text/plain": [
       "                            Company  Ticker          Ind\n",
       "0                              LVMH   MC.PA       CAC 40\n",
       "1                            Hermès  RMS.PA       CAC 40\n",
       "2                           L'Oréal   OR.PA       CAC 40\n",
       "3                Schneider Electric   SU.PA       CAC 40\n",
       "4                     TotalEnergies  TTE.PA       CAC 40\n",
       "...                             ...     ...          ...\n",
       "2515         Presto Automation Inc.    PRST  Russell 200\n",
       "2516             Graphite Bio, Inc.    GRPH  Russell 200\n",
       "2517                Vaxxinity, Inc.    VAXX  Russell 200\n",
       "2518      Blue Ridge Bankshares Inc    BRBS  Russell 200\n",
       "2519  Preferred Bank-Los Angeles CA    PFBC  Russell 200\n",
       "\n",
       "[2520 rows x 3 columns]"
      ]
     },
     "execution_count": 27,
     "metadata": {},
     "output_type": "execute_result"
    }
   ],
   "source": [
    "df_combined"
   ]
  },
  {
   "cell_type": "code",
   "execution_count": 28,
   "metadata": {},
   "outputs": [],
   "source": [
    "df_combined.to_csv('C:/Users/gabri/OneDrive/Bureau/P2T/Données/CACSNPDAXRUSSEL.csv', index=False)"
   ]
  }
 ],
 "metadata": {
  "kernelspec": {
   "display_name": "Python 3",
   "language": "python",
   "name": "python3"
  },
  "language_info": {
   "codemirror_mode": {
    "name": "ipython",
    "version": 3
   },
   "file_extension": ".py",
   "mimetype": "text/x-python",
   "name": "python",
   "nbconvert_exporter": "python",
   "pygments_lexer": "ipython3",
   "version": "3.12.4"
  }
 },
 "nbformat": 4,
 "nbformat_minor": 2
}
