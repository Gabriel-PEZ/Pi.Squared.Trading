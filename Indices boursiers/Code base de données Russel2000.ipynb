{
 "cells": [
  {
   "cell_type": "markdown",
   "metadata": {},
   "source": [
    "### Russel 2000\n",
    "---"
   ]
  },
  {
   "cell_type": "markdown",
   "metadata": {},
   "source": [
    "##### Explication de la Méthode Adoptée\n",
    "\n",
    "En tentant de récupérer les données des composants de l'indice Russell 2000, nous avons rencontré des difficultés à trouver une source directement scrapable. Les sites web souvent utilisés pour ces informations, comme les sites financiers spécialisés, présentent des défis comme le chargement dynamique des données via JavaScript, qui rend le scraping direct complexe ou même impossible sans outils avancés comme Selenium.\n",
    "\n",
    "Face à ces obstacles, nous avons opté pour une méthode alternative :\n",
    "1. **Téléchargement initial des données** : Nous avons d'abord téléchargé une base de données complète des stocks du Russell 2000 depuis une source fiable et accessible, le site [Sure Dividend](https://www.suredividend.com/russell-2000-stocks/), qui propose des listes régulièrement mises à jour.\n",
    "2. **Sauvegarde sur Google Drive** : Pour assurer la reproductibilité et l'accès facile à ces données sans les contraintes du scraping direct, nous avons sauvegardé cette base de données sur Google Drive. Un lien de partage public a été créé pour permettre un accès universel.\n",
    "3. **Utilisation de Google Sheets** : Plutôt que de scraper un site web, nous avons chargé les données dans Google Sheets et utilisé l'exportation CSV de Google Sheets pour faciliter l'accès programmatique aux données via des requêtes HTTP simples, exploitées ensuite avec Python.\n",
    "\n",
    "Cette approche garantit non seulement une plus grande stabilité et reproductibilité dans l'accès aux données mais contourne également les éventuels problèmes légaux ou techniques liés au scraping direct de sites web.\n"
   ]
  },
  {
   "cell_type": "code",
   "execution_count": 2,
   "metadata": {},
   "outputs": [],
   "source": [
    "import pandas as pd\n",
    "import requests\n",
    "from io import StringIO\n",
    "import yfinance as yf"
   ]
  },
  {
   "cell_type": "code",
   "execution_count": 3,
   "metadata": {},
   "outputs": [],
   "source": [
    "def load_google_sheet_csv(url):\n",
    "    \"\"\"\n",
    "    Charge un Google Sheet exporté en CSV depuis une URL et le retourne sous forme de DataFrame.\n",
    "\n",
    "    Paramètres:\n",
    "    - url (str): URL complète du fichier Google Sheet exporté en CSV.\n",
    "\n",
    "    Retour:\n",
    "    - DataFrame contenant les données du fichier CSV.\n",
    "\n",
    "    Exceptions:\n",
    "    - AssertionError pour les réponses HTTP non réussies.\n",
    "    - Exception pour les erreurs de lecture CSV.\n",
    "    \"\"\"\n",
    "    response = requests.get(url)\n",
    "    if response.status_code == 200:\n",
    "        # StringIO simule un fichier à partir d'une chaîne, nécessaire pour utiliser pd.read_csv\n",
    "        return pd.read_csv(StringIO(response.text))"
   ]
  },
  {
   "cell_type": "code",
   "execution_count": 4,
   "metadata": {},
   "outputs": [
    {
     "data": {
      "text/html": [
       "<div>\n",
       "<style scoped>\n",
       "    .dataframe tbody tr th:only-of-type {\n",
       "        vertical-align: middle;\n",
       "    }\n",
       "\n",
       "    .dataframe tbody tr th {\n",
       "        vertical-align: top;\n",
       "    }\n",
       "\n",
       "    .dataframe thead th {\n",
       "        text-align: right;\n",
       "    }\n",
       "</style>\n",
       "<table border=\"1\" class=\"dataframe\">\n",
       "  <thead>\n",
       "    <tr style=\"text-align: right;\">\n",
       "      <th></th>\n",
       "      <th>Ticker</th>\n",
       "      <th>Name</th>\n",
       "      <th>Sector</th>\n",
       "      <th>Price</th>\n",
       "      <th>Dividend Yield</th>\n",
       "      <th>5-Year Average Dividend Yield</th>\n",
       "      <th>Dividends Per Share (TTM)</th>\n",
       "      <th>Market Cap ($M)</th>\n",
       "      <th>Trailing P/E Ratio</th>\n",
       "      <th>Payout Ratio</th>\n",
       "      <th>Beta</th>\n",
       "      <th>52-Week High</th>\n",
       "      <th>52-Week Low</th>\n",
       "    </tr>\n",
       "  </thead>\n",
       "  <tbody>\n",
       "    <tr>\n",
       "      <th>0</th>\n",
       "      <td>AADI</td>\n",
       "      <td>Aadi Bioscience, Inc.</td>\n",
       "      <td>NaN</td>\n",
       "      <td>$2.44</td>\n",
       "      <td>NaN</td>\n",
       "      <td>0.0%</td>\n",
       "      <td>0.0%</td>\n",
       "      <td>$59.65</td>\n",
       "      <td>NaN</td>\n",
       "      <td>0.0</td>\n",
       "      <td>52.4%</td>\n",
       "      <td>5.5</td>\n",
       "      <td>$1.21</td>\n",
       "    </tr>\n",
       "    <tr>\n",
       "      <th>1</th>\n",
       "      <td>AAN</td>\n",
       "      <td>Aaron's Company, Inc.</td>\n",
       "      <td>Industrials</td>\n",
       "      <td>$10.09</td>\n",
       "      <td>5.0%</td>\n",
       "      <td>3.4%</td>\n",
       "      <td>50.0%</td>\n",
       "      <td>$309.89</td>\n",
       "      <td>NaN</td>\n",
       "      <td>NaN</td>\n",
       "      <td>122.7%</td>\n",
       "      <td>NaN</td>\n",
       "      <td>NaN</td>\n",
       "    </tr>\n",
       "    <tr>\n",
       "      <th>2</th>\n",
       "      <td>AAON</td>\n",
       "      <td>AAON, INC.</td>\n",
       "      <td>Industrials</td>\n",
       "      <td>$137.25</td>\n",
       "      <td>NaN</td>\n",
       "      <td>0.2%</td>\n",
       "      <td>32.0%</td>\n",
       "      <td>$11,155.63</td>\n",
       "      <td>$58.43</td>\n",
       "      <td>0.0</td>\n",
       "      <td>117.4%</td>\n",
       "      <td>144.0</td>\n",
       "      <td>$62.65</td>\n",
       "    </tr>\n",
       "    <tr>\n",
       "      <th>3</th>\n",
       "      <td>AAT</td>\n",
       "      <td>American Assets Trust, Inc.</td>\n",
       "      <td>Real Estate</td>\n",
       "      <td>$27.75</td>\n",
       "      <td>4.8%</td>\n",
       "      <td>4.3%</td>\n",
       "      <td>133.0%</td>\n",
       "      <td>$1,689.41</td>\n",
       "      <td>$28.98</td>\n",
       "      <td>1.0</td>\n",
       "      <td>88.9%</td>\n",
       "      <td>29.0</td>\n",
       "      <td>$19.25</td>\n",
       "    </tr>\n",
       "    <tr>\n",
       "      <th>4</th>\n",
       "      <td>ABCB</td>\n",
       "      <td>Ameris Bancorp</td>\n",
       "      <td>Financial Services</td>\n",
       "      <td>$69.46</td>\n",
       "      <td>1.0%</td>\n",
       "      <td>0.9%</td>\n",
       "      <td>60.0%</td>\n",
       "      <td>$4,792.54</td>\n",
       "      <td>$14.51</td>\n",
       "      <td>0.0</td>\n",
       "      <td>89.2%</td>\n",
       "      <td>74.6</td>\n",
       "      <td>$43.62</td>\n",
       "    </tr>\n",
       "  </tbody>\n",
       "</table>\n",
       "</div>"
      ],
      "text/plain": [
       "  Ticker                         Name              Sector    Price  \\\n",
       "0   AADI        Aadi Bioscience, Inc.                 NaN    $2.44   \n",
       "1    AAN        Aaron's Company, Inc.         Industrials   $10.09   \n",
       "2   AAON                   AAON, INC.         Industrials  $137.25   \n",
       "3    AAT  American Assets Trust, Inc.         Real Estate   $27.75   \n",
       "4   ABCB               Ameris Bancorp  Financial Services   $69.46   \n",
       "\n",
       "  Dividend Yield 5-Year Average Dividend Yield Dividends Per Share (TTM)  \\\n",
       "0            NaN                          0.0%                      0.0%   \n",
       "1           5.0%                          3.4%                     50.0%   \n",
       "2            NaN                          0.2%                     32.0%   \n",
       "3           4.8%                          4.3%                    133.0%   \n",
       "4           1.0%                          0.9%                     60.0%   \n",
       "\n",
       "  Market Cap ($M) Trailing P/E Ratio  Payout Ratio    Beta 52-Week High  \\\n",
       "0          $59.65                NaN           0.0   52.4%          5.5   \n",
       "1         $309.89                NaN           NaN  122.7%          NaN   \n",
       "2      $11,155.63             $58.43           0.0  117.4%        144.0   \n",
       "3       $1,689.41             $28.98           1.0   88.9%         29.0   \n",
       "4       $4,792.54             $14.51           0.0   89.2%         74.6   \n",
       "\n",
       "  52-Week Low  \n",
       "0       $1.21  \n",
       "1         NaN  \n",
       "2      $62.65  \n",
       "3      $19.25  \n",
       "4      $43.62  "
      ]
     },
     "execution_count": 4,
     "metadata": {},
     "output_type": "execute_result"
    }
   ],
   "source": [
    "csv_url = \"https://docs.google.com/spreadsheets/d/1OGMIF5aozD_O5r0WAhmANDizKXcsbd8x_OTjTPf-IcQ/export?format=csv&gid=0\"\n",
    "df_russel2000 = load_google_sheet_csv(csv_url)\n",
    "df_russel2000.head()"
   ]
  },
  {
   "cell_type": "code",
   "execution_count": 5,
   "metadata": {},
   "outputs": [
    {
     "data": {
      "text/html": [
       "<div>\n",
       "<style scoped>\n",
       "    .dataframe tbody tr th:only-of-type {\n",
       "        vertical-align: middle;\n",
       "    }\n",
       "\n",
       "    .dataframe tbody tr th {\n",
       "        vertical-align: top;\n",
       "    }\n",
       "\n",
       "    .dataframe thead th {\n",
       "        text-align: right;\n",
       "    }\n",
       "</style>\n",
       "<table border=\"1\" class=\"dataframe\">\n",
       "  <thead>\n",
       "    <tr style=\"text-align: right;\">\n",
       "      <th></th>\n",
       "      <th>Ticker</th>\n",
       "      <th>Name</th>\n",
       "      <th>Market Cap ($M)</th>\n",
       "    </tr>\n",
       "  </thead>\n",
       "  <tbody>\n",
       "    <tr>\n",
       "      <th>0</th>\n",
       "      <td>AADI</td>\n",
       "      <td>Aadi Bioscience, Inc.</td>\n",
       "      <td>$59.65</td>\n",
       "    </tr>\n",
       "    <tr>\n",
       "      <th>1</th>\n",
       "      <td>AAN</td>\n",
       "      <td>Aaron's Company, Inc.</td>\n",
       "      <td>$309.89</td>\n",
       "    </tr>\n",
       "    <tr>\n",
       "      <th>2</th>\n",
       "      <td>AAON</td>\n",
       "      <td>AAON, INC.</td>\n",
       "      <td>$11,155.63</td>\n",
       "    </tr>\n",
       "    <tr>\n",
       "      <th>3</th>\n",
       "      <td>AAT</td>\n",
       "      <td>American Assets Trust, Inc.</td>\n",
       "      <td>$1,689.41</td>\n",
       "    </tr>\n",
       "    <tr>\n",
       "      <th>4</th>\n",
       "      <td>ABCB</td>\n",
       "      <td>Ameris Bancorp</td>\n",
       "      <td>$4,792.54</td>\n",
       "    </tr>\n",
       "  </tbody>\n",
       "</table>\n",
       "</div>"
      ],
      "text/plain": [
       "  Ticker                         Name Market Cap ($M)\n",
       "0   AADI        Aadi Bioscience, Inc.          $59.65\n",
       "1    AAN        Aaron's Company, Inc.         $309.89\n",
       "2   AAON                   AAON, INC.      $11,155.63\n",
       "3    AAT  American Assets Trust, Inc.       $1,689.41\n",
       "4   ABCB               Ameris Bancorp       $4,792.54"
      ]
     },
     "execution_count": 5,
     "metadata": {},
     "output_type": "execute_result"
    }
   ],
   "source": [
    "# On enlève l'information superflue\n",
    "df_russel2000 = df_russel2000.drop(columns=[\n",
    "    'Sector', 'Price', 'Dividend Yield', '5-Year Average Dividend Yield', 'Dividends Per Share (TTM)',\n",
    "    'Trailing P/E Ratio', 'Payout Ratio', 'Beta', '52-Week High', '52-Week Low'\n",
    "])\n",
    "df_russel2000.head()"
   ]
  },
  {
   "cell_type": "code",
   "execution_count": 6,
   "metadata": {},
   "outputs": [
    {
     "data": {
      "text/plain": [
       "Ticker           0\n",
       "Company Name     8\n",
       "Market Cap      26\n",
       "dtype: int64"
      ]
     },
     "execution_count": 6,
     "metadata": {},
     "output_type": "execute_result"
    }
   ],
   "source": [
    "df_russel2000.rename(columns={'Name': 'Company Name'}, inplace=True)\n",
    "df_russel2000.rename(columns={'Market Cap ($M)': 'Market Cap'}, inplace=True)\n",
    "\n",
    "# Check des valeurs manquantes\n",
    "df_russel2000.isnull().sum()"
   ]
  },
  {
   "cell_type": "code",
   "execution_count": 7,
   "metadata": {},
   "outputs": [],
   "source": [
    "# On supprime les lignes où 'Company name' est NaN \n",
    "# (après vérification, les données sont introuvables même sur yfinance)\n",
    "df_russel2000 = df_russel2000.dropna(subset=['Company Name'])"
   ]
  },
  {
   "cell_type": "code",
   "execution_count": 8,
   "metadata": {},
   "outputs": [],
   "source": [
    "def update_dataframe(df):\n",
    "    \"\"\"\n",
    "    Met à jour la colonne 'Market Cap' du DataFrame :\n",
    "    - Si 'Market Cap' est NaN, remplace par les données de yfinance.\n",
    "    - Sinon, supprime le symbole '$' de 'Market Cap', le convertit en float * million, puis en entier.\n",
    "    \"\"\"\n",
    "    for index, row in df.iterrows():\n",
    "        # Mise à jour de 'Market Cap' si NaN\n",
    "        if pd.isna(row['Market Cap']):\n",
    "            ticker = row['Ticker']\n",
    "            yf_ticker = yf.Ticker(ticker)\n",
    "            market_cap = yf_ticker.info.get('marketCap')\n",
    "            if market_cap:\n",
    "                # Enregistrer la valeur entière\n",
    "                df.at[index, 'Market Cap'] = int(market_cap)\n",
    "            else:\n",
    "                print(f\"Erreur lors de la récupération du Market Cap pour {ticker}.\")\n",
    "       \n",
    "        else:\n",
    "            # Supprimer le symbole '$', convertir en float puis en entier\n",
    "            market_cap_value = float(str(row['Market Cap']).replace('$', '').replace(',', '')) * 1e6\n",
    "            df.at[index, 'Market Cap'] = int(market_cap_value)\n",
    "    \n",
    "    return df"
   ]
  },
  {
   "cell_type": "code",
   "execution_count": 9,
   "metadata": {},
   "outputs": [
    {
     "name": "stderr",
     "output_type": "stream",
     "text": [
      "404 Client Error: Not Found for url: https://query2.finance.yahoo.com/v10/finance/quoteSummary/BIG?modules=financialData%2CquoteType%2CdefaultKeyStatistics%2CassetProfile%2CsummaryDetail&corsDomain=finance.yahoo.com&formatted=false&symbol=BIG&crumb=R9BEgAuQKQA\n"
     ]
    },
    {
     "name": "stdout",
     "output_type": "stream",
     "text": [
      "Erreur lors de la récupération du Market Cap pour BIG.\n"
     ]
    }
   ],
   "source": [
    "# Application\n",
    "df_russel2000 = update_dataframe(df_russel2000)"
   ]
  },
  {
   "cell_type": "code",
   "execution_count": 10,
   "metadata": {},
   "outputs": [
    {
     "data": {
      "text/plain": [
       "Ticker          0\n",
       "Company Name    0\n",
       "Market Cap      0\n",
       "dtype: int64"
      ]
     },
     "execution_count": 10,
     "metadata": {},
     "output_type": "execute_result"
    }
   ],
   "source": [
    "# On supprime les lignes où 'Market Cap' est encore NaN \n",
    "# (après vérification, les données sont introuvables même sur yfinance)\n",
    "df_russel2000 = df_russel2000.dropna(subset=['Market Cap'])\n",
    "\n",
    "# Check des valeurs manquantes\n",
    "df_russel2000.isnull().sum()"
   ]
  },
  {
   "cell_type": "code",
   "execution_count": 11,
   "metadata": {},
   "outputs": [
    {
     "data": {
      "text/html": [
       "<div>\n",
       "<style scoped>\n",
       "    .dataframe tbody tr th:only-of-type {\n",
       "        vertical-align: middle;\n",
       "    }\n",
       "\n",
       "    .dataframe tbody tr th {\n",
       "        vertical-align: top;\n",
       "    }\n",
       "\n",
       "    .dataframe thead th {\n",
       "        text-align: right;\n",
       "    }\n",
       "</style>\n",
       "<table border=\"1\" class=\"dataframe\">\n",
       "  <thead>\n",
       "    <tr style=\"text-align: right;\">\n",
       "      <th></th>\n",
       "      <th>Ticker</th>\n",
       "      <th>Company Name</th>\n",
       "      <th>Market Cap</th>\n",
       "    </tr>\n",
       "  </thead>\n",
       "  <tbody>\n",
       "    <tr>\n",
       "      <th>1150</th>\n",
       "      <td>MSTR</td>\n",
       "      <td>MICROSTRATEGY Inc</td>\n",
       "      <td>80046500000</td>\n",
       "    </tr>\n",
       "    <tr>\n",
       "      <th>484</th>\n",
       "      <td>CVNA</td>\n",
       "      <td>CARVANA CO.</td>\n",
       "      <td>32283070000</td>\n",
       "    </tr>\n",
       "    <tr>\n",
       "      <th>1610</th>\n",
       "      <td>SMCI</td>\n",
       "      <td>Super Micro Computer, Inc.</td>\n",
       "      <td>25723880000</td>\n",
       "    </tr>\n",
       "    <tr>\n",
       "      <th>676</th>\n",
       "      <td>FIX</td>\n",
       "      <td>COMFORT SYSTEMS USA INC</td>\n",
       "      <td>17689500000</td>\n",
       "    </tr>\n",
       "    <tr>\n",
       "      <th>551</th>\n",
       "      <td>DUOL</td>\n",
       "      <td>Duolingo, Inc.</td>\n",
       "      <td>16208310000</td>\n",
       "    </tr>\n",
       "    <tr>\n",
       "      <th>...</th>\n",
       "      <td>...</td>\n",
       "      <td>...</td>\n",
       "      <td>...</td>\n",
       "    </tr>\n",
       "    <tr>\n",
       "      <th>1415</th>\n",
       "      <td>PRST</td>\n",
       "      <td>Presto Automation Inc.</td>\n",
       "      <td>1255557</td>\n",
       "    </tr>\n",
       "    <tr>\n",
       "      <th>777</th>\n",
       "      <td>GRPH</td>\n",
       "      <td>Graphite Bio, Inc.</td>\n",
       "      <td>20000</td>\n",
       "    </tr>\n",
       "    <tr>\n",
       "      <th>1822</th>\n",
       "      <td>VAXX</td>\n",
       "      <td>Vaxxinity, Inc.</td>\n",
       "      <td>12678</td>\n",
       "    </tr>\n",
       "    <tr>\n",
       "      <th>287</th>\n",
       "      <td>BRBS</td>\n",
       "      <td>Blue Ridge Bankshares Inc</td>\n",
       "      <td>0</td>\n",
       "    </tr>\n",
       "    <tr>\n",
       "      <th>1347</th>\n",
       "      <td>PFBC</td>\n",
       "      <td>Preferred Bank-Los Angeles CA</td>\n",
       "      <td>0</td>\n",
       "    </tr>\n",
       "  </tbody>\n",
       "</table>\n",
       "<p>1937 rows × 3 columns</p>\n",
       "</div>"
      ],
      "text/plain": [
       "     Ticker                   Company Name   Market Cap\n",
       "1150   MSTR              MICROSTRATEGY Inc  80046500000\n",
       "484    CVNA                    CARVANA CO.  32283070000\n",
       "1610   SMCI     Super Micro Computer, Inc.  25723880000\n",
       "676     FIX        COMFORT SYSTEMS USA INC  17689500000\n",
       "551    DUOL                 Duolingo, Inc.  16208310000\n",
       "...     ...                            ...          ...\n",
       "1415   PRST         Presto Automation Inc.      1255557\n",
       "777    GRPH             Graphite Bio, Inc.        20000\n",
       "1822   VAXX                Vaxxinity, Inc.        12678\n",
       "287    BRBS      Blue Ridge Bankshares Inc            0\n",
       "1347   PFBC  Preferred Bank-Los Angeles CA            0\n",
       "\n",
       "[1937 rows x 3 columns]"
      ]
     },
     "execution_count": 11,
     "metadata": {},
     "output_type": "execute_result"
    }
   ],
   "source": [
    "df_russel2000 = df_russel2000.sort_values(by = 'Market Cap', ascending = False)\n",
    "df_russel2000"
   ]
  },
  {
   "cell_type": "code",
   "execution_count": 11,
   "metadata": {},
   "outputs": [],
   "source": [
    "# Exportation du DataFrame en CSV\n",
    "file_path = \"/Users/pieropelosi/Downloads/russell_2000.csv\"\n",
    "df_russel2000.to_csv(file_path, index=False)"
   ]
  }
 ],
 "metadata": {
  "kernelspec": {
   "display_name": "base",
   "language": "python",
   "name": "python3"
  },
  "language_info": {
   "codemirror_mode": {
    "name": "ipython",
    "version": 3
   },
   "file_extension": ".py",
   "mimetype": "text/x-python",
   "name": "python",
   "nbconvert_exporter": "python",
   "pygments_lexer": "ipython3",
   "version": "3.12.7"
  }
 },
 "nbformat": 4,
 "nbformat_minor": 2
}
